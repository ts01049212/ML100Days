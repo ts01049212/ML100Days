{
  "nbformat": 4,
  "nbformat_minor": 0,
  "metadata": {
    "colab": {
      "name": "D04 NumPy 陣列邏輯函式 (Logic functions)",
      "provenance": [],
      "collapsed_sections": []
    },
    "kernelspec": {
      "name": "python3",
      "display_name": "Python 3"
    }
  },
  "cells": [
    {
      "cell_type": "code",
      "metadata": {
        "id": "g5eQwaWEMNa2"
      },
      "source": [
        "import numpy as np\r\n",
        "english_score = np.array([55,89,76,65,48,70])\r\n",
        "\r\n",
        "math_score = np.array([60,85,60,68,55,60])\r\n",
        "\r\n",
        "chinese_score = np.array([65,90,82,72,66,77])\r\n",
        "\r\n"
      ],
      "execution_count": null,
      "outputs": []
    },
    {
      "cell_type": "code",
      "metadata": {
        "colab": {
          "base_uri": "https://localhost:8080/"
        },
        "id": "6egkqdozMw8Z",
        "outputId": "3eecb852-0648-48b9-df97-c2ec3108166c"
      },
      "source": [
        "a=np.greater(english_score,math_score)#比較成績大小\r\n",
        "a=np.sum(a)#計算為真的值加總\r\n",
        "print('共有{}位小朋友英文分數比數學高'.format(a))"
      ],
      "execution_count": null,
      "outputs": [
        {
          "output_type": "stream",
          "text": [
            "共有3位小朋友英文比數學高\n"
          ],
          "name": "stdout"
        }
      ]
    },
    {
      "cell_type": "code",
      "metadata": {
        "colab": {
          "base_uri": "https://localhost:8080/"
        },
        "id": "KnX9FRDnOTxM",
        "outputId": "92c49024-2f5b-4e50-c05d-62af360b6f09"
      },
      "source": [
        "c=np.greater(chinese_score,english_score)\r\n",
        "d=np.greater(chinese_score,math_score)\r\n",
        "e=np.greater(c,d)\r\n",
        "print(np.logical_and(c,d))#判別兩者是否相等\r\n",
        "print(np.logical_and(c,d).all())\r\n"
      ],
      "execution_count": 35,
      "outputs": [
        {
          "output_type": "stream",
          "text": [
            "[ True  True  True  True  True  True]\n",
            "True\n"
          ],
          "name": "stdout"
        }
      ]
    }
  ]
}