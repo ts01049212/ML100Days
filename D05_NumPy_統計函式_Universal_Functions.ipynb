{
  "nbformat": 4,
  "nbformat_minor": 0,
  "metadata": {
    "colab": {
      "name": "D05 NumPy 統計函式 Universal Functions ",
      "provenance": [],
      "collapsed_sections": []
    },
    "kernelspec": {
      "name": "python3",
      "display_name": "Python 3"
    }
  },
  "cells": [
    {
      "cell_type": "code",
      "metadata": {
        "id": "g5eQwaWEMNa2"
      },
      "source": [
        "import numpy as np\r\n",
        "english_score = np.array([55,89,76,65,48,70])\r\n",
        "\r\n",
        "math_score = np.array([60,85,60,68,np.nan,60])\r\n",
        "\r\n",
        "chinese_score = np.array([65,90,82,72,66,77])"
      ],
      "execution_count": 43,
      "outputs": []
    },
    {
      "cell_type": "code",
      "metadata": {
        "colab": {
          "base_uri": "https://localhost:8080/"
        },
        "id": "6egkqdozMw8Z",
        "outputId": "03aa675e-7308-4889-b596-9cb6be402e1f"
      },
      "source": [
        "#補考前成績\r\n",
        "english_score = np.array([55,89,76,65,48,70])\r\n",
        "math_score = np.array([60,85,60,68,np.nan,60])\r\n",
        "chinese_score = np.array([65,90,82,72,66,77])\r\n",
        "#使用nanmean、nanmin、nanmax及nanstd可忽略nan值\r\n",
        "#各科平均值\r\n",
        "avg_eng=np.nanmean(english_score)\r\n",
        "avg_mat=np.nanmean(math_score)\r\n",
        "avg_chin=np.nanmean(chinese_score)\r\n",
        "print(f'補考前英文平均值={avg_eng}')\r\n",
        "print(f'補考前數學平均值={avg_mat}')\r\n",
        "print(f'補考前中文平均值={avg_chin}')\r\n",
        "print('------------------------------------')\r\n",
        "#各科最小值\r\n",
        "min_eng=np.nanmin(english_score)\r\n",
        "min_mat=np.nanmin(math_score)\r\n",
        "min_chin=np.nanmin(chinese_score)\r\n",
        "print(f'補考前英文最大值={min_eng}')\r\n",
        "print(f'補考前數學最大值={min_mat}')\r\n",
        "print(f'補考前中文最大值={min_chin}')\r\n",
        "print('------------------------------------')\r\n",
        "#各科最大值\r\n",
        "max_eng=np.nanmax(english_score)\r\n",
        "max_mat=np.nanmax(math_score)\r\n",
        "max_chin=np.nanmax(chinese_score)\r\n",
        "print(f'補考前英文最大值={max_eng}')\r\n",
        "print(f'補考前數學最大值={max_mat}')\r\n",
        "print(f'補考前中文最大值={max_chin}')\r\n",
        "print('------------------------------------')\r\n",
        "#補考前各科標準差\r\n",
        "std_eng=np.nanstd(english_score)\r\n",
        "std_mat=np.nanstd(math_score)\r\n",
        "std_chin=np.nanstd(chinese_score)\r\n",
        "print(f'補考前英文標準差={std_eng}')\r\n",
        "print(f'補考前數學標準差={std_mat}')\r\n",
        "print(f'補考前中文標準差={std_chin}')"
      ],
      "execution_count": 73,
      "outputs": [
        {
          "output_type": "stream",
          "text": [
            "補考前英文最大值=67.16666666666667\n",
            "補考前數學最大值=66.6\n",
            "補考前中文最大值=75.33333333333333\n",
            "------------------------------------\n",
            "補考前英文最大值=48\n",
            "補考前數學最大值=60.0\n",
            "補考前中文最大值=65\n",
            "------------------------------------\n",
            "補考前英文最大值=89\n",
            "補考前數學最大值=85.0\n",
            "補考前中文最大值=90\n",
            "------------------------------------\n",
            "補考前英文標準差=13.433995020924426\n",
            "補考前數學標準差=9.707728879609279\n",
            "補考前中文標準差=8.825468196582484\n"
          ],
          "name": "stdout"
        }
      ]
    },
    {
      "cell_type": "code",
      "metadata": {
        "colab": {
          "base_uri": "https://localhost:8080/"
        },
        "id": "hZAAshmmY7H4",
        "outputId": "cf3cf7f6-6018-420f-fb9d-8d721d036755"
      },
      "source": [
        "#補考後成績\r\n",
        "english_score = np.array([55,89,76,65,48,70])\r\n",
        "math_score = np.array([60,85,60,68,55,60])\r\n",
        "chinese_score = np.array([65,90,82,72,66,77])\r\n",
        "#使用nanmean、nanmin、nanmax及nanstd可忽略nan值\r\n",
        "#各科平均值\r\n",
        "avg_eng=np.nanmean(english_score)\r\n",
        "avg_mat=np.nanmean(math_score)\r\n",
        "avg_chin=np.nanmean(chinese_score)\r\n",
        "print(f'補考後英文平均值={avg_eng}')\r\n",
        "print(f'補考後數學平均值={avg_mat}')\r\n",
        "print(f'補考後中文平均值={avg_chin}')\r\n",
        "print('------------------------------------')\r\n",
        "#各科最小值\r\n",
        "min_eng=np.nanmin(english_score)\r\n",
        "min_mat=np.nanmin(math_score)\r\n",
        "min_chin=np.nanmin(chinese_score)\r\n",
        "print(f'補考後英文最大值={min_eng}')\r\n",
        "print(f'補考後數學最大值={min_mat}')\r\n",
        "print(f'補考後中文最大值={min_chin}')\r\n",
        "print('------------------------------------')\r\n",
        "#各科最大值\r\n",
        "max_eng=np.nanmax(english_score)\r\n",
        "max_mat=np.nanmax(math_score)\r\n",
        "max_chin=np.nanmax(chinese_score)\r\n",
        "print(f'補考後英文最大值={max_eng}')\r\n",
        "print(f'補考後數學最大值={max_mat}')\r\n",
        "print(f'補考後中文最大值={max_chin}')\r\n",
        "print('------------------------------------')\r\n",
        "#補考前各科標準差\r\n",
        "std_eng=np.nanstd(english_score)\r\n",
        "std_mat=np.nanstd(math_score)\r\n",
        "std_chin=np.nanstd(chinese_score)\r\n",
        "print(f'補考後英文標準差={std_eng}')\r\n",
        "print(f'補考後數學標準差={std_mat}')\r\n",
        "print(f'補考後中文標準差={std_chin}')"
      ],
      "execution_count": 75,
      "outputs": [
        {
          "output_type": "stream",
          "text": [
            "補考後英文平均值=67.16666666666667\n",
            "補考後數學平均值=64.66666666666667\n",
            "補考後中文平均值=75.33333333333333\n",
            "------------------------------------\n",
            "補考後英文最大值=48\n",
            "補考後數學最大值=55\n",
            "補考後中文最大值=65\n",
            "------------------------------------\n",
            "補考後英文最大值=89\n",
            "補考後數學最大值=85\n",
            "補考後中文最大值=90\n",
            "------------------------------------\n",
            "補考後英文標準差=13.433995020924426\n",
            "補考後數學標準差=9.860132971832694\n",
            "補考後中文標準差=8.825468196582484\n"
          ],
          "name": "stdout"
        }
      ]
    },
    {
      "cell_type": "code",
      "metadata": {
        "colab": {
          "base_uri": "https://localhost:8080/"
        },
        "id": "FRKYWM1oc1Ir",
        "outputId": "2c67b45f-291d-422b-9e47-3692f9ab3b32"
      },
      "source": [
        "english_score = np.array([55,89,76,65,48,70])\r\n",
        "math_score = np.array([60,85,60,68,55,60])\r\n",
        "chinese_score = np.array([65,90,82,72,66,77])\r\n",
        "print(\"國文與數學相關係數\",np.corrcoef(chinese_score,math_score))\r\n",
        "print(\"國文與英文相關係數\",np.corrcoef(chinese_score,english_score))\r\n",
        "\r\n",
        "#由回傳的相關性係數矩陣可知，國文與數學的相關性是0.74056803，國文與英文的相關性是0.97792828\r\n",
        "#國文與英文的相關性較高。"
      ],
      "execution_count": 89,
      "outputs": [
        {
          "output_type": "stream",
          "text": [
            "國文與數學相關係數 [[1.         0.74056803]\n",
            " [0.74056803 1.        ]]\n",
            "國文與英文相關係數 [[1.         0.97792828]\n",
            " [0.97792828 1.        ]]\n"
          ],
          "name": "stdout"
        }
      ]
    }
  ]
}