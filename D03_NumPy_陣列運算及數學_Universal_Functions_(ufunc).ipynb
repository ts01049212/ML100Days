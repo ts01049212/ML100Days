{
  "nbformat": 4,
  "nbformat_minor": 0,
  "metadata": {
    "colab": {
      "name": "D03 NumPy 陣列運算及數學 Universal Functions (ufunc).ipynb",
      "provenance": [],
      "collapsed_sections": []
    },
    "kernelspec": {
      "name": "python3",
      "display_name": "Python 3"
    }
  },
  "cells": [
    {
      "cell_type": "code",
      "metadata": {
        "id": "g5eQwaWEMNa2"
      },
      "source": [
        "import numpy as np"
      ],
      "execution_count": null,
      "outputs": []
    },
    {
      "cell_type": "code",
      "metadata": {
        "colab": {
          "base_uri": "https://localhost:8080/"
        },
        "id": "6egkqdozMw8Z",
        "outputId": "df1f55e7-1928-47ad-a3df-8df44444a2f5"
      },
      "source": [
        "db = 20*np.log10(20000/20) #20000換算成分貝\r\n",
        "print('{}db'.format(db))"
      ],
      "execution_count": null,
      "outputs": [
        {
          "output_type": "stream",
          "text": [
            "60.0db\n"
          ],
          "name": "stdout"
        }
      ]
    },
    {
      "cell_type": "code",
      "metadata": {
        "colab": {
          "base_uri": "https://localhost:8080/"
        },
        "id": "KnX9FRDnOTxM",
        "outputId": "4d0c0fe9-90ae-4792-eb82-2b94832e9f4c"
      },
      "source": [
        "def dbtimes(va,vb):\r\n",
        "  input=vb-va #50db-30db\r\n",
        "  times = np.power(10,input/20)#計算倍數\r\n",
        "  return times\r\n",
        "\r\n",
        "dbtimes(30,50)#回傳倍數"
      ],
      "execution_count": null,
      "outputs": [
        {
          "output_type": "execute_result",
          "data": {
            "text/plain": [
              "10.0"
            ]
          },
          "metadata": {
            "tags": []
          },
          "execution_count": 13
        }
      ]
    }
  ]
}